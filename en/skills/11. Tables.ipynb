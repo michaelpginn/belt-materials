{
  "cells": [
    {
      "cell_type": "markdown",
      "id": "a4a92198",
      "metadata": {
        "id": "a4a92198"
      },
      "source": [
        "# Working with Tables\n",
        "\n",
        "Tables are a simple way to organize and store data. They are commonly used in spreadsheets (think Excel or Google Sheets) and databases, where each row holds a record, and each column holds a different attribute of that record.\n",
        "\n",
        "CSV files (Comma-Separated Values) are one of the most popular formats for storing tables. This files can be easily exported from an Excel or Google Sheets file (or opened via one of these applications)."
      ]
    },
    {
      "cell_type": "markdown",
      "source": [
        "### Exporting a CSV"
      ],
      "metadata": {
        "id": "LtqgsVRMfLvL"
      },
      "id": "LtqgsVRMfLvL"
    },
    {
      "cell_type": "markdown",
      "source": [
        "## Exporting from Excel"
      ],
      "metadata": {
        "id": "OXBo4HBy6w9k"
      },
      "id": "OXBo4HBy6w9k"
    },
    {
      "cell_type": "markdown",
      "source": [
        "\n",
        "\n",
        "- Open your Excel file.\n",
        "- Click on File in the top-left corner.\n",
        "- Select Save As.\n",
        "- Choose a location to save the file.\n",
        "- In the Save as type dropdown, select CSV (Comma delimited) (*.csv).\n",
        "- Click Save.\n",
        "\n",
        "Note:\n",
        "- A warning may pop up, stating that some features of the workbook may be lost if saved in CSV format. Click Yes to confirm.\n"
      ],
      "metadata": {
        "id": "KI3_vdMe6n9n"
      },
      "id": "KI3_vdMe6n9n"
    },
    {
      "cell_type": "markdown",
      "source": [
        "## Exporting from Google Sheets"
      ],
      "metadata": {
        "id": "LSpApMWZ6yL_"
      },
      "id": "LSpApMWZ6yL_"
    },
    {
      "cell_type": "markdown",
      "source": [
        "- Open your Google Sheets file.\n",
        "- Go to File in the menu bar.\n",
        "- Hover over Download.\n",
        "- Select Comma-separated values (.csv).\n",
        "- The file will automatically download to your default download location."
      ],
      "metadata": {
        "id": "HQP1W-s060ya"
      },
      "id": "HQP1W-s060ya"
    },
    {
      "cell_type": "markdown",
      "metadata": {
        "id": "cbd8d525"
      },
      "source": [
        "### Opening CSV Files with Code\n",
        "CSV files are easy to open and can be read by many programs like Excel, Google Sheets, or even simple text editors. In Python, we can use the `csv` module to work with these files.\n",
        "\n",
        "#### Example:"
      ],
      "id": "cbd8d525"
    },
    {
      "cell_type": "code",
      "execution_count": null,
      "metadata": {
        "colab": {
          "base_uri": "https://localhost:8080/"
        },
        "id": "6b5e0b80",
        "outputId": "bbac7dbe-7bde-415e-bf9e-57e2b8b1cac8"
      },
      "outputs": [
        {
          "output_type": "stream",
          "name": "stdout",
          "text": [
            "['Nawatl', 'English']\n",
            "['Wehka', 'Far']\n",
            "['Oksepa', 'Again']\n",
            "['Xinichchia', 'Wait for me']\n"
          ]
        }
      ],
      "source": [
        "import csv\n",
        "\n",
        "with open('data.csv', newline='') as file:\n",
        "    reader = csv.reader(file)\n",
        "    for row in reader:\n",
        "        print(row)"
      ],
      "id": "6b5e0b80"
    },
    {
      "cell_type": "markdown",
      "id": "fec8ab9f",
      "metadata": {
        "id": "fec8ab9f"
      },
      "source": [
        "### Reading and Writing CSV Files\n",
        "Just like reading from a CSV file, you can also write new data into a CSV file using Python’s `csv` module.\n",
        "\n",
        "#### Example (Writing):"
      ]
    },
    {
      "cell_type": "code",
      "execution_count": null,
      "id": "e491bbfc",
      "metadata": {
        "id": "e491bbfc"
      },
      "outputs": [],
      "source": [
        "import csv\n",
        "\n",
        "data = [[\"Nawatl\", \"English\"],\n",
        "        [\"Wehka\", \"Far\"],\n",
        "        [\"Oksepa\", \"Again\"],\n",
        "        [\"Xinichchia\", \"Wait for me\"]]\n",
        "\n",
        "with open('data.csv', 'w', newline='') as file:\n",
        "    writer = csv.writer(file)\n",
        "    writer.writerows(data)"
      ]
    },
    {
      "cell_type": "markdown",
      "source": [
        "Once this file is created, it will appear wherever we set the path to. Since we didn't (we just named it \"output.csv\" it's directly in the same directory where we have this same file we're currently working with."
      ],
      "metadata": {
        "id": "GDSRWfJniRJQ"
      },
      "id": "GDSRWfJniRJQ"
    },
    {
      "cell_type": "markdown",
      "source": [
        "#### **Exercise 1**"
      ],
      "metadata": {
        "id": "Kn6r0Z6bjF0o"
      },
      "id": "Kn6r0Z6bjF0o"
    },
    {
      "cell_type": "markdown",
      "source": [
        "###### Show answer"
      ],
      "metadata": {
        "id": "Iq7UEZjskUlZ"
      },
      "id": "Iq7UEZjskUlZ"
    },
    {
      "cell_type": "code",
      "source": [
        "import csv\n",
        "\n",
        "# Define your data\n",
        "data = [[\"Name\", \"Age\", \"Hobbies\"],\n",
        "        [\"John\", 28, \"Coding, Reading, Traveling\"]]\n",
        "\n",
        "# Write to the CSV file\n",
        "with open('myself.csv', 'w', newline='') as file:\n",
        "    writer = csv.writer(file)\n",
        "    writer.writerows(data)"
      ],
      "metadata": {
        "id": "BYmb-DBvkQnc"
      },
      "id": "BYmb-DBvkQnc",
      "execution_count": null,
      "outputs": []
    },
    {
      "cell_type": "markdown",
      "source": [
        "##### Create a CSV file with information about yourself (Name, Age, Hobbies) and save it with the name \"myself.csv\")"
      ],
      "metadata": {
        "id": "UHngqmx6kauC"
      },
      "id": "UHngqmx6kauC"
    },
    {
      "cell_type": "markdown",
      "source": [
        "#### **Exercise 2**"
      ],
      "metadata": {
        "id": "ZWVB4R2IjfcW"
      },
      "id": "ZWVB4R2IjfcW"
    },
    {
      "cell_type": "markdown",
      "source": [
        "###### Show answer"
      ],
      "metadata": {
        "id": "mEUjZL3zkqDa"
      },
      "id": "mEUjZL3zkqDa"
    },
    {
      "cell_type": "code",
      "source": [
        "import csv\n",
        "\n",
        "# Read the CSV file and print its content\n",
        "with open('myself.csv', newline='') as file:\n",
        "    reader = csv.reader(file)\n",
        "    for row in reader:\n",
        "        print(row)"
      ],
      "metadata": {
        "colab": {
          "base_uri": "https://localhost:8080/"
        },
        "id": "cZDCKF-_kpnk",
        "outputId": "12e25906-d7a2-4f04-ecbd-ffac3d85257b"
      },
      "execution_count": null,
      "outputs": [
        {
          "output_type": "stream",
          "name": "stdout",
          "text": [
            "['Name', 'Age', 'Hobbies']\n",
            "['John', '28', 'Coding, Reading, Traveling']\n"
          ]
        }
      ],
      "id": "cZDCKF-_kpnk"
    },
    {
      "cell_type": "markdown",
      "source": [
        "##### Read the file you created on Exercise 1."
      ],
      "metadata": {
        "id": "I5-lBxIJksMl"
      },
      "id": "I5-lBxIJksMl"
    },
    {
      "cell_type": "code",
      "source": [
        "#TODO: Read myself.csv"
      ],
      "metadata": {
        "id": "wx-HGltLjnO-"
      },
      "execution_count": null,
      "outputs": [],
      "id": "wx-HGltLjnO-"
    },
    {
      "cell_type": "code",
      "source": [
        "# Create myself.csv"
      ],
      "metadata": {
        "id": "NzVPZUa9jREC"
      },
      "id": "NzVPZUa9jREC",
      "execution_count": null,
      "outputs": []
    },
    {
      "cell_type": "markdown",
      "source": [
        "### Adding new information\n",
        "To add new data, we first read the existing CSV file, modify the data as needed (like adding new columns or rows), and then write the updated data back to the file.\n",
        "\n",
        "#### Example:"
      ],
      "metadata": {
        "id": "8zYbmXsRlpVP"
      },
      "id": "8zYbmXsRlpVP"
    },
    {
      "cell_type": "code",
      "source": [
        "import csv\n",
        "\n",
        "# Read the existing data from the CSV file\n",
        "with open('data.csv', newline='') as file:\n",
        "    reader = list(csv.reader(file))\n",
        "\n",
        "# Add new columns and information\n",
        "reader[0].extend([\"Spanish\"])\n",
        "reader[1].extend([\"Lejos\"])\n",
        "reader[2].extend([\"De nuevo\"])\n",
        "reader[3].extend([\"Espérame\"])\n",
        "\n",
        "# Write the updated data back to the CSV file\n",
        "with open('data.csv', 'w', newline='') as file:\n",
        "    writer = csv.writer(file)\n",
        "    writer.writerows(reader)"
      ],
      "metadata": {
        "id": "BNSm7VUKl5bJ"
      },
      "id": "BNSm7VUKl5bJ",
      "execution_count": null,
      "outputs": []
    },
    {
      "cell_type": "markdown",
      "source": [
        "#### Exercise 3"
      ],
      "metadata": {
        "id": "MPTBYr2SlKBr"
      },
      "id": "MPTBYr2SlKBr"
    },
    {
      "cell_type": "markdown",
      "source": [
        "###### Show answer"
      ],
      "metadata": {
        "id": "_Et4LtcClOdW"
      },
      "id": "_Et4LtcClOdW"
    },
    {
      "cell_type": "code",
      "source": [
        "import csv\n",
        "\n",
        "# Read the existing data from the CSV file\n",
        "with open('myself.csv', newline='') as file:\n",
        "    reader = list(csv.reader(file))\n",
        "\n",
        "# Add new columns and information\n",
        "reader[0].extend([\"Favorite Color\", \"Favorite Food\"])\n",
        "reader[1].extend([\"Blue\", \"Pizza\"])\n",
        "\n",
        "# Write the updated data back to the CSV file\n",
        "with open('myself.csv', 'w', newline='') as file:\n",
        "    writer = csv.writer(file)\n",
        "    writer.writerows(reader)"
      ],
      "metadata": {
        "id": "ymg1oacIlN6o"
      },
      "id": "ymg1oacIlN6o",
      "execution_count": null,
      "outputs": []
    },
    {
      "cell_type": "markdown",
      "source": [
        "##### Add more information to your myself.csv file. Create a new entry with your favorite color and favorite food. Then, update the file by adding a new column called Favorite Color and Favorite Food."
      ],
      "metadata": {
        "id": "k-Yp3t7TlRfY"
      },
      "id": "k-Yp3t7TlRfY"
    },
    {
      "cell_type": "code",
      "source": [
        "#TODO: Add new columns"
      ],
      "metadata": {
        "id": "G1UrwjiDlZp4"
      },
      "id": "G1UrwjiDlZp4",
      "execution_count": null,
      "outputs": []
    },
    {
      "cell_type": "markdown",
      "id": "4346b659",
      "metadata": {
        "id": "4346b659"
      },
      "source": [
        "### Why Use Tables (CSVs) Over Dictionaries?\n",
        "- **Scalability:** Tables handle larger datasets better than dictionaries.\n",
        "- **Compatibility:** Many programs can open and manipulate CSVs without special configurations.\n",
        "- **Simplicity:** CSVs use a simple, standardized format that makes them easy to share."
      ]
    },
    {
      "cell_type": "markdown",
      "source": [
        "## SUMMARY\n",
        "\n",
        "In this lesson, we learned about working with tables in CSV format using Python.\n",
        "\n",
        "* Opening and reading CSV files\n",
        "* Writing data to CSV files\n",
        "* Benefits of using CSVs over dictionaries (scalability, compatibility, simplicity)\n",
        "* Exercises on reading, writing, and modifying CSV data"
      ],
      "metadata": {
        "id": "tIM6TaSxkEK_"
      },
      "id": "tIM6TaSxkEK_"
    }
  ],
  "metadata": {
    "colab": {
      "provenance": []
    },
    "language_info": {
      "name": "python"
    },
    "kernelspec": {
      "name": "python3",
      "display_name": "Python 3"
    }
  },
  "nbformat": 4,
  "nbformat_minor": 5
}